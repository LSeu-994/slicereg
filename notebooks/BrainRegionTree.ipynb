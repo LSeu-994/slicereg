{
 "cells": [
  {
   "cell_type": "code",
   "execution_count": 24,
   "id": "cooked-tampa",
   "metadata": {},
   "outputs": [],
   "source": [
    "from dataclasses import dataclass, asdict\n",
    "from typing import Dict, Any\n",
    "\n",
    "from bg_atlasapi import BrainGlobeAtlas\n",
    "from treelib import Tree\n",
    "from numpy.random import randint\n",
    "import pandas as pd"
   ]
  },
  {
   "cell_type": "markdown",
   "id": "finished-civilization",
   "metadata": {},
   "source": [
    "## What Data is in the Brainglobe Structures Tree, how do you get at it?"
   ]
  },
  {
   "cell_type": "code",
   "execution_count": 2,
   "id": "antique-inclusion",
   "metadata": {},
   "outputs": [
    {
     "name": "stdout",
     "output_type": "stream",
     "text": [
      "allen mouse atlas (res. 100um)\n",
      "From: http://www.brain-map.org (Wang et al 2020, https://doi.org/10.1016/j.cell.2020.04.007 )\n"
     ]
    }
   ],
   "source": [
    "atlas = BrainGlobeAtlas(\"allen_mouse_100um\")"
   ]
  },
  {
   "cell_type": "code",
   "execution_count": 5,
   "id": "significant-distance",
   "metadata": {},
   "outputs": [],
   "source": [
    "tree = atlas.structures.tree"
   ]
  },
  {
   "cell_type": "code",
   "execution_count": 6,
   "id": "proud-transcription",
   "metadata": {},
   "outputs": [
    {
     "data": {
      "text/plain": [
       "[Node(tag=root (997), identifier=997, data=None),\n",
       " Node(tag=grey (8), identifier=8, data=None),\n",
       " Node(tag=CH (567), identifier=567, data=None),\n",
       " Node(tag=CTX (688), identifier=688, data=None),\n",
       " Node(tag=CTXpl (695), identifier=695, data=None),\n",
       " Node(tag=Isocortex (315), identifier=315, data=None),\n",
       " Node(tag=FRP (184), identifier=184, data=None),\n",
       " Node(tag=FRP1 (68), identifier=68, data=None),\n",
       " Node(tag=FRP2/3 (667), identifier=667, data=None),\n",
       " Node(tag=FRP5 (526157192), identifier=526157192, data=None)]"
      ]
     },
     "execution_count": 6,
     "metadata": {},
     "output_type": "execute_result"
    }
   ],
   "source": [
    "tree.all_nodes()[:10]"
   ]
  },
  {
   "cell_type": "code",
   "execution_count": 7,
   "id": "backed-mortgage",
   "metadata": {},
   "outputs": [
    {
     "data": {
      "text/plain": [
       "Node(tag=root (997), identifier=997, data=None)"
      ]
     },
     "execution_count": 7,
     "metadata": {},
     "output_type": "execute_result"
    }
   ],
   "source": [
    "tree.parent(8)"
   ]
  },
  {
   "cell_type": "code",
   "execution_count": 10,
   "id": "devoted-angel",
   "metadata": {},
   "outputs": [
    {
     "data": {
      "text/plain": [
       "{'acronym': 'grey', 'id': 8, 'name': 'Basic cell groups and regions', 'structure_id_path': [997, 8], 'rgb_triplet': [191, 218, 227], 'mesh_filename': WindowsPath('C:/Users/Nick/.brainglobe/allen_mouse_100um_v1.2/meshes/8.obj'), 'mesh': None}"
      ]
     },
     "execution_count": 10,
     "metadata": {},
     "output_type": "execute_result"
    }
   ],
   "source": [
    "atlas.structures[8]"
   ]
  },
  {
   "cell_type": "markdown",
   "id": "federal-growing",
   "metadata": {},
   "source": [
    "## Let's Make a new, custom tree with nodes thet contain our own data structure"
   ]
  },
  {
   "cell_type": "markdown",
   "id": "invalid-literacy",
   "metadata": {},
   "source": [
    "### BrainRegion Data Structure (will be attached to each node)"
   ]
  },
  {
   "cell_type": "code",
   "execution_count": 20,
   "id": "expressed-gambling",
   "metadata": {},
   "outputs": [],
   "source": [
    "@dataclass\n",
    "class BrainRegion:\n",
    "    id: int\n",
    "    name: str\n",
    "    full_name: str\n",
    "    depth: int\n",
    "    cells: int\n",
    "    total_cells: int = 0\n",
    "        \n",
    "    @property\n",
    "    def repr(self) -> str:\n",
    "        return f\"{self.full_name} ({self.id}): {self.depth}|{self.cells}|{self.total_cells}\"\n",
    "    \n",
    "    def to_dict(self) -> Dict[str, Any]:\n",
    "        return asdict(self)\n",
    "        "
   ]
  },
  {
   "cell_type": "markdown",
   "id": "after-registration",
   "metadata": {},
   "source": [
    "### Assemble and Populate new tree of BrainRegions from Brainglobe Atlas"
   ]
  },
  {
   "cell_type": "code",
   "execution_count": 33,
   "id": "unsigned-resistance",
   "metadata": {},
   "outputs": [
    {
     "name": "stdout",
     "output_type": "stream",
     "text": [
      "Midbrain, behavioral state related (348): 4|0|17\n",
      "├── Midbrain raphe nuclei (165): 5|0|13\n",
      "│   ├── Interfascicular nucleus raphe (12): 6|0|0\n",
      "│   ├── Interpeduncular nucleus (100): 6|0|9\n",
      "│   │   ├── Interpeduncular nucleus, rostral (607344834): 7|2|2\n",
      "│   │   ├── Interpeduncular nucleus, caudal (607344838): 7|0|0\n",
      "│   │   ├── Interpeduncular nucleus, apical (607344842): 7|2|2\n",
      "│   │   ├── Interpeduncular nucleus, lateral (607344846): 7|1|1\n",
      "│   │   ├── Interpeduncular nucleus, intermediate (607344850): 7|1|1\n",
      "│   │   ├── Interpeduncular nucleus, dorsomedial (607344854): 7|2|2\n",
      "│   │   ├── Interpeduncular nucleus, dorsolateral (607344858): 7|1|1\n",
      "│   │   └── Interpeduncular nucleus, rostrolateral (607344862): 7|0|0\n",
      "│   ├── Rostral linear nucleus raphe (197): 6|2|2\n",
      "│   ├── Central linear nucleus raphe (591): 6|2|2\n",
      "│   └── Dorsal nucleus raphe (872): 6|0|0\n",
      "├── Substantia nigra, compact part (374): 5|2|2\n",
      "└── Pedunculopontine nucleus (1052): 5|2|2\n",
      "\n"
     ]
    }
   ],
   "source": [
    "def build_brainregion_tree_from_bgatlas(atlas):\n",
    "    tree = atlas.structures.tree\n",
    "    tree2 = Tree()\n",
    "    for node in tree.all_nodes_itr():\n",
    "        parent = tree.parent(node.identifier)\n",
    "        data = atlas.structures.get(node.identifier)\n",
    "        tree2.create_node(\n",
    "            identifier=node.identifier, \n",
    "            parent=parent, \n",
    "            data=BrainRegion(\n",
    "                id=int(node.identifier),\n",
    "                name=data['acronym'] if data else node.tag.split(' (')[0],\n",
    "                full_name = data['name'] if data else node.tag.split(' (')[0],\n",
    "                depth=tree.depth(node),\n",
    "                cells=randint(0, 3) if node.is_leaf() else 0  # Just assign a random amount of cells,\n",
    "            )\n",
    "        )\n",
    "        \n",
    "    for node in tree2.all_nodes_itr():\n",
    "        subtree = tree2.subtree(node.identifier)\n",
    "        cells = sum(n.data.cells for n in subtree.all_nodes_itr())\n",
    "        node.data.total_cells = cells\n",
    "        \n",
    "    return tree2\n",
    "\n",
    "\n",
    "tree = build_brainregion_tree_from_bgatlas(atlas)\n",
    "root_node = 348\n",
    "tree.show(root_node, data_property='repr')"
   ]
  },
  {
   "cell_type": "markdown",
   "id": "finished-folks",
   "metadata": {},
   "source": [
    "## Convert to Pandas Dataframe of BrainRegions"
   ]
  },
  {
   "cell_type": "code",
   "execution_count": 37,
   "id": "domestic-spencer",
   "metadata": {},
   "outputs": [
    {
     "data": {
      "text/html": [
       "<div>\n",
       "<style scoped>\n",
       "    .dataframe tbody tr th:only-of-type {\n",
       "        vertical-align: middle;\n",
       "    }\n",
       "\n",
       "    .dataframe tbody tr th {\n",
       "        vertical-align: top;\n",
       "    }\n",
       "\n",
       "    .dataframe thead th {\n",
       "        text-align: right;\n",
       "    }\n",
       "</style>\n",
       "<table border=\"1\" class=\"dataframe\">\n",
       "  <thead>\n",
       "    <tr style=\"text-align: right;\">\n",
       "      <th></th>\n",
       "      <th>id</th>\n",
       "      <th>name</th>\n",
       "      <th>full_name</th>\n",
       "      <th>depth</th>\n",
       "      <th>cells</th>\n",
       "      <th>total_cells</th>\n",
       "    </tr>\n",
       "  </thead>\n",
       "  <tbody>\n",
       "    <tr>\n",
       "      <th>0</th>\n",
       "      <td>997</td>\n",
       "      <td>root</td>\n",
       "      <td>root</td>\n",
       "      <td>0</td>\n",
       "      <td>0</td>\n",
       "      <td>657</td>\n",
       "    </tr>\n",
       "    <tr>\n",
       "      <th>1</th>\n",
       "      <td>8</td>\n",
       "      <td>grey</td>\n",
       "      <td>Basic cell groups and regions</td>\n",
       "      <td>1</td>\n",
       "      <td>0</td>\n",
       "      <td>586</td>\n",
       "    </tr>\n",
       "    <tr>\n",
       "      <th>2</th>\n",
       "      <td>343</td>\n",
       "      <td>BS</td>\n",
       "      <td>Brain stem</td>\n",
       "      <td>2</td>\n",
       "      <td>0</td>\n",
       "      <td>236</td>\n",
       "    </tr>\n",
       "    <tr>\n",
       "      <th>3</th>\n",
       "      <td>313</td>\n",
       "      <td>MB</td>\n",
       "      <td>Midbrain</td>\n",
       "      <td>3</td>\n",
       "      <td>0</td>\n",
       "      <td>55</td>\n",
       "    </tr>\n",
       "    <tr>\n",
       "      <th>4</th>\n",
       "      <td>323</td>\n",
       "      <td>MBmot</td>\n",
       "      <td>Midbrain, motor related</td>\n",
       "      <td>4</td>\n",
       "      <td>0</td>\n",
       "      <td>26</td>\n",
       "    </tr>\n",
       "    <tr>\n",
       "      <th>5</th>\n",
       "      <td>35</td>\n",
       "      <td>III</td>\n",
       "      <td>Oculomotor nucleus</td>\n",
       "      <td>5</td>\n",
       "      <td>0</td>\n",
       "      <td>0</td>\n",
       "    </tr>\n",
       "    <tr>\n",
       "      <th>6</th>\n",
       "      <td>58</td>\n",
       "      <td>MT</td>\n",
       "      <td>Medial terminal nucleus of the accessory optic...</td>\n",
       "      <td>5</td>\n",
       "      <td>1</td>\n",
       "      <td>1</td>\n",
       "    </tr>\n",
       "    <tr>\n",
       "      <th>7</th>\n",
       "      <td>66</td>\n",
       "      <td>LT</td>\n",
       "      <td>Lateral terminal nucleus of the accessory opti...</td>\n",
       "      <td>5</td>\n",
       "      <td>0</td>\n",
       "      <td>0</td>\n",
       "    </tr>\n",
       "    <tr>\n",
       "      <th>8</th>\n",
       "      <td>75</td>\n",
       "      <td>DT</td>\n",
       "      <td>Dorsal terminal nucleus of the accessory optic...</td>\n",
       "      <td>5</td>\n",
       "      <td>2</td>\n",
       "      <td>2</td>\n",
       "    </tr>\n",
       "    <tr>\n",
       "      <th>9</th>\n",
       "      <td>115</td>\n",
       "      <td>IV</td>\n",
       "      <td>Trochlear nucleus</td>\n",
       "      <td>5</td>\n",
       "      <td>0</td>\n",
       "      <td>0</td>\n",
       "    </tr>\n",
       "  </tbody>\n",
       "</table>\n",
       "</div>"
      ],
      "text/plain": [
       "    id   name                                          full_name  depth  \\\n",
       "0  997   root                                               root      0   \n",
       "1    8   grey                      Basic cell groups and regions      1   \n",
       "2  343     BS                                         Brain stem      2   \n",
       "3  313     MB                                           Midbrain      3   \n",
       "4  323  MBmot                            Midbrain, motor related      4   \n",
       "5   35    III                                 Oculomotor nucleus      5   \n",
       "6   58     MT  Medial terminal nucleus of the accessory optic...      5   \n",
       "7   66     LT  Lateral terminal nucleus of the accessory opti...      5   \n",
       "8   75     DT  Dorsal terminal nucleus of the accessory optic...      5   \n",
       "9  115     IV                                  Trochlear nucleus      5   \n",
       "\n",
       "   cells  total_cells  \n",
       "0      0          657  \n",
       "1      0          586  \n",
       "2      0          236  \n",
       "3      0           55  \n",
       "4      0           26  \n",
       "5      0            0  \n",
       "6      1            1  \n",
       "7      0            0  \n",
       "8      2            2  \n",
       "9      0            0  "
      ]
     },
     "execution_count": 37,
     "metadata": {},
     "output_type": "execute_result"
    }
   ],
   "source": [
    "df = pd.DataFrame([tree.get_node(node).data.to_dict() for node in tree.expand_tree()])\n",
    "df.head(10)"
   ]
  },
  {
   "cell_type": "markdown",
   "id": "inside-ballot",
   "metadata": {},
   "source": [
    "#### Query Dataframe by Region"
   ]
  },
  {
   "cell_type": "code",
   "execution_count": 40,
   "id": "alike-maria",
   "metadata": {},
   "outputs": [
    {
     "data": {
      "text/html": [
       "<div>\n",
       "<style scoped>\n",
       "    .dataframe tbody tr th:only-of-type {\n",
       "        vertical-align: middle;\n",
       "    }\n",
       "\n",
       "    .dataframe tbody tr th {\n",
       "        vertical-align: top;\n",
       "    }\n",
       "\n",
       "    .dataframe thead th {\n",
       "        text-align: right;\n",
       "    }\n",
       "</style>\n",
       "<table border=\"1\" class=\"dataframe\">\n",
       "  <thead>\n",
       "    <tr style=\"text-align: right;\">\n",
       "      <th></th>\n",
       "      <th>id</th>\n",
       "      <th>name</th>\n",
       "      <th>full_name</th>\n",
       "      <th>depth</th>\n",
       "      <th>cells</th>\n",
       "      <th>total_cells</th>\n",
       "    </tr>\n",
       "  </thead>\n",
       "  <tbody>\n",
       "    <tr>\n",
       "      <th>1</th>\n",
       "      <td>8</td>\n",
       "      <td>grey</td>\n",
       "      <td>Basic cell groups and regions</td>\n",
       "      <td>1</td>\n",
       "      <td>0</td>\n",
       "      <td>586</td>\n",
       "    </tr>\n",
       "    <tr>\n",
       "      <th>724</th>\n",
       "      <td>73</td>\n",
       "      <td>VS</td>\n",
       "      <td>ventricular systems</td>\n",
       "      <td>1</td>\n",
       "      <td>0</td>\n",
       "      <td>4</td>\n",
       "    </tr>\n",
       "    <tr>\n",
       "      <th>733</th>\n",
       "      <td>1009</td>\n",
       "      <td>fiber tracts</td>\n",
       "      <td>fiber tracts</td>\n",
       "      <td>1</td>\n",
       "      <td>0</td>\n",
       "      <td>67</td>\n",
       "    </tr>\n",
       "  </tbody>\n",
       "</table>\n",
       "</div>"
      ],
      "text/plain": [
       "       id          name                      full_name  depth  cells  \\\n",
       "1       8          grey  Basic cell groups and regions      1      0   \n",
       "724    73            VS            ventricular systems      1      0   \n",
       "733  1009  fiber tracts                   fiber tracts      1      0   \n",
       "\n",
       "     total_cells  \n",
       "1            586  \n",
       "724            4  \n",
       "733           67  "
      ]
     },
     "execution_count": 40,
     "metadata": {},
     "output_type": "execute_result"
    }
   ],
   "source": [
    "df[df.depth==1]"
   ]
  },
  {
   "cell_type": "markdown",
   "id": "presidential-enlargement",
   "metadata": {},
   "source": [
    "#### Query Dataframe by Name"
   ]
  },
  {
   "cell_type": "code",
   "execution_count": 41,
   "id": "consecutive-bridges",
   "metadata": {},
   "outputs": [
    {
     "data": {
      "text/html": [
       "<div>\n",
       "<style scoped>\n",
       "    .dataframe tbody tr th:only-of-type {\n",
       "        vertical-align: middle;\n",
       "    }\n",
       "\n",
       "    .dataframe tbody tr th {\n",
       "        vertical-align: top;\n",
       "    }\n",
       "\n",
       "    .dataframe thead th {\n",
       "        text-align: right;\n",
       "    }\n",
       "</style>\n",
       "<table border=\"1\" class=\"dataframe\">\n",
       "  <thead>\n",
       "    <tr style=\"text-align: right;\">\n",
       "      <th></th>\n",
       "      <th>id</th>\n",
       "      <th>name</th>\n",
       "      <th>full_name</th>\n",
       "      <th>depth</th>\n",
       "      <th>cells</th>\n",
       "      <th>total_cells</th>\n",
       "    </tr>\n",
       "  </thead>\n",
       "  <tbody>\n",
       "    <tr>\n",
       "      <th>9</th>\n",
       "      <td>115</td>\n",
       "      <td>IV</td>\n",
       "      <td>Trochlear nucleus</td>\n",
       "      <td>5</td>\n",
       "      <td>0</td>\n",
       "      <td>0</td>\n",
       "    </tr>\n",
       "  </tbody>\n",
       "</table>\n",
       "</div>"
      ],
      "text/plain": [
       "    id name          full_name  depth  cells  total_cells\n",
       "9  115   IV  Trochlear nucleus      5      0            0"
      ]
     },
     "execution_count": 41,
     "metadata": {},
     "output_type": "execute_result"
    }
   ],
   "source": [
    "df[df.name == 'IV']"
   ]
  },
  {
   "cell_type": "markdown",
   "id": "electronic-location",
   "metadata": {},
   "source": [
    "#### Query Dataframe by Number of cells"
   ]
  },
  {
   "cell_type": "code",
   "execution_count": 45,
   "id": "annual-portfolio",
   "metadata": {},
   "outputs": [
    {
     "data": {
      "text/html": [
       "<div>\n",
       "<style scoped>\n",
       "    .dataframe tbody tr th:only-of-type {\n",
       "        vertical-align: middle;\n",
       "    }\n",
       "\n",
       "    .dataframe tbody tr th {\n",
       "        vertical-align: top;\n",
       "    }\n",
       "\n",
       "    .dataframe thead th {\n",
       "        text-align: right;\n",
       "    }\n",
       "</style>\n",
       "<table border=\"1\" class=\"dataframe\">\n",
       "  <thead>\n",
       "    <tr style=\"text-align: right;\">\n",
       "      <th></th>\n",
       "      <th>id</th>\n",
       "      <th>name</th>\n",
       "      <th>full_name</th>\n",
       "      <th>depth</th>\n",
       "      <th>cells</th>\n",
       "      <th>total_cells</th>\n",
       "    </tr>\n",
       "  </thead>\n",
       "  <tbody>\n",
       "    <tr>\n",
       "      <th>8</th>\n",
       "      <td>75</td>\n",
       "      <td>DT</td>\n",
       "      <td>Dorsal terminal nucleus of the accessory optic...</td>\n",
       "      <td>5</td>\n",
       "      <td>2</td>\n",
       "      <td>2</td>\n",
       "    </tr>\n",
       "    <tr>\n",
       "      <th>13</th>\n",
       "      <td>246</td>\n",
       "      <td>RR</td>\n",
       "      <td>Midbrain reticular nucleus, retrorubral area</td>\n",
       "      <td>5</td>\n",
       "      <td>2</td>\n",
       "      <td>2</td>\n",
       "    </tr>\n",
       "    <tr>\n",
       "      <th>19</th>\n",
       "      <td>381</td>\n",
       "      <td>SNr</td>\n",
       "      <td>Substantia nigra, reticular part</td>\n",
       "      <td>5</td>\n",
       "      <td>2</td>\n",
       "      <td>2</td>\n",
       "    </tr>\n",
       "    <tr>\n",
       "      <th>20</th>\n",
       "      <td>616</td>\n",
       "      <td>CUN</td>\n",
       "      <td>Cuneiform nucleus</td>\n",
       "      <td>5</td>\n",
       "      <td>2</td>\n",
       "      <td>2</td>\n",
       "    </tr>\n",
       "    <tr>\n",
       "      <th>26</th>\n",
       "      <td>587</td>\n",
       "      <td>ND</td>\n",
       "      <td>Nucleus of Darkschewitsch</td>\n",
       "      <td>6</td>\n",
       "      <td>2</td>\n",
       "      <td>2</td>\n",
       "    </tr>\n",
       "  </tbody>\n",
       "</table>\n",
       "</div>"
      ],
      "text/plain": [
       "     id name                                          full_name  depth  cells  \\\n",
       "8    75   DT  Dorsal terminal nucleus of the accessory optic...      5      2   \n",
       "13  246   RR       Midbrain reticular nucleus, retrorubral area      5      2   \n",
       "19  381  SNr                   Substantia nigra, reticular part      5      2   \n",
       "20  616  CUN                                  Cuneiform nucleus      5      2   \n",
       "26  587   ND                          Nucleus of Darkschewitsch      6      2   \n",
       "\n",
       "    total_cells  \n",
       "8             2  \n",
       "13            2  \n",
       "19            2  \n",
       "20            2  \n",
       "26            2  "
      ]
     },
     "execution_count": 45,
     "metadata": {},
     "output_type": "execute_result"
    }
   ],
   "source": [
    "df[df.cells > 1].head()"
   ]
  }
 ],
 "metadata": {
  "kernelspec": {
   "display_name": "Python 3",
   "language": "python",
   "name": "python3"
  },
  "language_info": {
   "codemirror_mode": {
    "name": "ipython",
    "version": 3
   },
   "file_extension": ".py",
   "mimetype": "text/x-python",
   "name": "python",
   "nbconvert_exporter": "python",
   "pygments_lexer": "ipython3",
   "version": "3.8.3"
  }
 },
 "nbformat": 4,
 "nbformat_minor": 5
}
