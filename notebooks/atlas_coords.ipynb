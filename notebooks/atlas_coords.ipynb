{
 "metadata": {
  "language_info": {
   "codemirror_mode": {
    "name": "ipython",
    "version": 3
   },
   "file_extension": ".py",
   "mimetype": "text/x-python",
   "name": "python",
   "nbconvert_exporter": "python",
   "pygments_lexer": "ipython3",
   "version": "3.8.5"
  },
  "orig_nbformat": 2,
  "kernelspec": {
   "name": "python3",
   "display_name": "Python 3.8.5 64-bit",
   "metadata": {
    "interpreter": {
     "hash": "3d04e6ed5573af617fae3c84d8bd7058b302e1530d4744b82b9d82b09b8381fd"
    }
   }
  }
 },
 "nbformat": 4,
 "nbformat_minor": 2,
 "cells": [
  {
   "cell_type": "code",
   "execution_count": 33,
   "metadata": {},
   "outputs": [],
   "source": [
    "import bg_atlasapi as bg\n",
    "import matplotlib.pyplot as plt\n",
    "from ipywidgets import interact, IntSlider"
   ]
  },
  {
   "cell_type": "code",
   "execution_count": 34,
   "metadata": {},
   "outputs": [
    {
     "output_type": "stream",
     "name": "stdout",
     "text": [
      "allen mouse atlas (res. 100um)\nFrom: http://www.brain-map.org (Wang et al 2020, https://doi.org/10.1016/j.cell.2020.04.007 )\n"
     ]
    },
    {
     "output_type": "execute_result",
     "data": {
      "text/plain": [
       "allen mouse atlas (res. 100um)\n",
       "From: http://www.brain-map.org (Wang et al 2020, https://doi.org/10.1016/j.cell.2020.04.007 )"
      ]
     },
     "metadata": {},
     "execution_count": 34
    }
   ],
   "source": [
    "atlas = bg.BrainGlobeAtlas(\"allen_mouse_100um\")\n",
    "atlas"
   ]
  },
  {
   "cell_type": "code",
   "execution_count": 3,
   "metadata": {},
   "outputs": [
    {
     "output_type": "execute_result",
     "data": {
      "text/plain": [
       "<BGSpace AnatomicalSpace object>\n",
       "origin: ('Anterior', 'Superior', 'Right')\n",
       "sections: ('Frontal plane', 'Horizontal plane', 'Sagittal plane')\n",
       "shape: (132, 80, 114)"
      ]
     },
     "metadata": {},
     "execution_count": 3
    }
   ],
   "source": [
    "atlas.space"
   ]
  },
  {
   "cell_type": "code",
   "execution_count": 44,
   "metadata": {},
   "outputs": [
    {
     "output_type": "display_data",
     "data": {
      "text/plain": "interactive(children=(IntSlider(value=0, description='i', max=200), Dropdown(description='space', options=('as…",
      "application/vnd.jupyter.widget-view+json": {
       "version_major": 2,
       "version_minor": 0,
       "model_id": "85a6a5ffece445f98a10e93425867151"
      }
     },
     "metadata": {}
    }
   ],
   "source": [
    "@interact(\n",
    "    i=IntSlider(0, 0, 200),\n",
    "    space=[\"asr\", \"ars\", \"rsa\", \"ras\", \"sra\", \"sar\"]\n",
    ")\n",
    "def imshow(i, space):\n",
    "    volume = atlas.reference\n",
    "    new_volume = atlas.space.map_stack_to(space, volume)\n",
    "    plt.imshow(new_volume[i, :, :], origin='upper');"
   ]
  }
 ]
}